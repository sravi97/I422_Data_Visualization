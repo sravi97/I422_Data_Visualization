{
 "cells": [
  {
   "cell_type": "code",
   "execution_count": 1,
   "metadata": {},
   "outputs": [
    {
     "ename": "SyntaxError",
     "evalue": "invalid syntax (<ipython-input-1-de24f15197f5>, line 1)",
     "output_type": "error",
     "traceback": [
      "\u001b[0;36m  File \u001b[0;32m\"<ipython-input-1-de24f15197f5>\"\u001b[0;36m, line \u001b[0;32m1\u001b[0m\n\u001b[0;31m    <html>\u001b[0m\n\u001b[0m    ^\u001b[0m\n\u001b[0;31mSyntaxError\u001b[0m\u001b[0;31m:\u001b[0m invalid syntax\n"
     ]
    }
   ],
   "source": [
    "<html>\n",
    "    <head>\n",
    "        <title> Voronoi Diagram </title>\n",
    "    </head>\n",
    "    <body>\n",
    "        <h1 style =\"color: blue; font-size: 34px;\"> Voronoi Plot </h1>\n",
    "        <a href = \"foo.png\" </a>\n",
    "        <p> This graph shows a Voronoi diagram of the water pumps and deaths that occurred. The death \n",
    "        plot and water pump graph are on top of the Voronoi diagram. The blue dots represent the deaths\n",
    "        and the orange dots represent the pumps. </p>\n",
    "        \n",
    "    </body>\n",
    "        \n",
    "</html>"
   ]
  }
 ],
 "metadata": {
  "kernelspec": {
   "display_name": "Python 3",
   "language": "python",
   "name": "python3"
  },
  "language_info": {
   "codemirror_mode": {
    "name": "ipython",
    "version": 3
   },
   "file_extension": ".py",
   "mimetype": "text/x-python",
   "name": "python",
   "nbconvert_exporter": "python",
   "pygments_lexer": "ipython3",
   "version": "3.6.5"
  }
 },
 "nbformat": 4,
 "nbformat_minor": 2
}
